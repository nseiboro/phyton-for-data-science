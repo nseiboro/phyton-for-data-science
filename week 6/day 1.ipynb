{
 "cells": [
  {
   "cell_type": "code",
   "execution_count": 10,
   "id": "51b4ab4d",
   "metadata": {},
   "outputs": [
    {
     "name": "stdout",
     "output_type": "stream",
     "text": [
      "i cant walk\n",
      "i can walk\n",
      "yay! i can talk\n"
     ]
    }
   ],
   "source": [
    "class Animal:\n",
    "    def walk(self, legs):\n",
    "        if legs >= 2:\n",
    "            print (\"i can walk\")\n",
    "        else:\n",
    "            print(\"i cant walk\")\n",
    "        return\n",
    "    def talk(self):\n",
    "        print(\"yay! i can talk\")\n",
    "        return\n",
    "    \n",
    "dog = Animal()\n",
    "goat = Animal()\n",
    "dog.walk(1)\n",
    "goat.walk(3) =\n",
    "dog.talk()\n",
    "#walk(3)\n",
    "        "
   ]
  },
  {
   "cell_type": "code",
   "execution_count": 6,
   "id": "cab5a7df",
   "metadata": {},
   "outputs": [
    {
     "name": "stdout",
     "output_type": "stream",
     "text": [
      "executed the__init__method\n",
      "car color: Red\n",
      "car make: Honda\n",
      "car model: civic\n",
      "year manufactured: 2008\n",
      "executed the setinfo method\n",
      "car color: gold\n",
      "car make: mercedes\n",
      "car model: c300\n",
      "year manufactured: 2012\n"
     ]
    }
   ],
   "source": [
    "class Car(object):\n",
    "    has_engine = True\n",
    "    steering_shape = \"circle\"\n",
    "    def __init__(self, color, make, model, year):\n",
    "        self.color = color\n",
    "        self.make = make\n",
    "        self.year = year\n",
    "        self.model = model\n",
    "        print(\"executed the__init__method\")\n",
    "        return\n",
    "    def getinfo(self):\n",
    "        print(\"car color:\", self.color)\n",
    "        print(\"car make:\", self.make)\n",
    "        print(\"car model:\", self.model)\n",
    "        print(\"year manufactured:\", self.year)\n",
    "        return\n",
    "    def changeinfo(self, color, make, model, year):\n",
    "        self.color = color\n",
    "        self.make = make\n",
    "        self.year = year\n",
    "        self.model = model\n",
    "        print(\"executed the setinfo method\")\n",
    "        return\n",
    "    \n",
    "car1 = Car(\"Red\", \"Honda\", \"civic\", 2008)\n",
    "car1.getinfo()\n",
    "car1.changeinfo(\"gold\",\"mercedes\",\"c300\", 2012)\n",
    "car1.getinfo()\n",
    "\n",
    "    \n",
    "    "
   ]
  },
  {
   "cell_type": "code",
   "execution_count": 7,
   "id": "132a6059",
   "metadata": {},
   "outputs": [
    {
     "ename": "TypeError",
     "evalue": "list.append() takes exactly one argument (0 given)",
     "output_type": "error",
     "traceback": [
      "\u001b[1;31m---------------------------------------------------------------------------\u001b[0m",
      "\u001b[1;31mTypeError\u001b[0m                                 Traceback (most recent call last)",
      "Cell \u001b[1;32mIn[7], line 3\u001b[0m\n\u001b[0;32m      1\u001b[0m list1 \u001b[38;5;241m=\u001b[39m \u001b[38;5;28mlist\u001b[39m()\n\u001b[0;32m      2\u001b[0m list1\u001b[38;5;241m.\u001b[39mappend(\u001b[38;5;241m3\u001b[39m)\n\u001b[1;32m----> 3\u001b[0m \u001b[43mlist1\u001b[49m\u001b[38;5;241;43m.\u001b[39;49m\u001b[43mappend\u001b[49m\u001b[43m(\u001b[49m\u001b[43m)\u001b[49m\n",
      "\u001b[1;31mTypeError\u001b[0m: list.append() takes exactly one argument (0 given)"
     ]
    }
   ],
   "source": [
    "list1 = list()\n",
    "list1.append(3)\n",
    "list1.append()"
   ]
  },
  {
   "cell_type": "code",
   "execution_count": 18,
   "id": "fa2af753",
   "metadata": {},
   "outputs": [
    {
     "name": "stdout",
     "output_type": "stream",
     "text": [
      "talks\n",
      "jumps\n",
      "shouts\n"
     ]
    }
   ],
   "source": [
    "class Person:\n",
    "    def talk(self, talk):\n",
    "        self.talk = talk\n",
    "        print(\"talks\")\n",
    "    def jump(self, jump):\n",
    "        self.jump = jump\n",
    "        print(\"jumps\")\n",
    "    def shouts(self, shouts):\n",
    "        self.shouts = shouts\n",
    "        print(\"shouts\")\n",
    "        return\n",
    "        \n",
    "person = Person()\n",
    "person.talk(\"hello\")\n",
    "person.jump(\"20m\")\n",
    "person.shouts(\"low tone\")"
   ]
  },
  {
   "cell_type": "code",
   "execution_count": 34,
   "id": "ce064b96",
   "metadata": {},
   "outputs": [
    {
     "name": "stdout",
     "output_type": "stream",
     "text": [
      "Insufficient balance\n",
      "current balance 1000\n"
     ]
    }
   ],
   "source": [
    "class BankCustomer:\n",
    "    def __init__(self, name, balance):\n",
    "        self.nm = name\n",
    "        self.bal = balance\n",
    "        return\n",
    "    def deposit(self, amount):\n",
    "        self.bal += amount\n",
    "        return\n",
    "    def withdraw(self, amount):\n",
    "        if amount > self.bal:\n",
    "            return \"Insufficient balance\"\n",
    "        else:\n",
    "            self.bal-= amount\n",
    "            return \"withdrawal successful\"\n",
    "    def checkbalance(self):\n",
    "        return self.bal\n",
    "cust1 = BankCustomer(\"Sam\", 1000) \n",
    "\n",
    "withrawal_response = cust1.withdraw(5000)\n",
    "print(withrawal_response)\n",
    "bal = cust1.checkbalance()\n",
    "print(\"current balance\", bal)"
   ]
  },
  {
   "cell_type": "code",
   "execution_count": null,
   "id": "225c469b",
   "metadata": {},
   "outputs": [],
   "source": []
  }
 ],
 "metadata": {
  "kernelspec": {
   "display_name": "Python 3 (ipykernel)",
   "language": "python",
   "name": "python3"
  },
  "language_info": {
   "codemirror_mode": {
    "name": "ipython",
    "version": 3
   },
   "file_extension": ".py",
   "mimetype": "text/x-python",
   "name": "python",
   "nbconvert_exporter": "python",
   "pygments_lexer": "ipython3",
   "version": "3.10.9"
  }
 },
 "nbformat": 4,
 "nbformat_minor": 5
}
