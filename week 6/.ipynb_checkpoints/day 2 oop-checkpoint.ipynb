{
 "cells": [
  {
   "cell_type": "code",
   "execution_count": 5,
   "id": "9cac5af6",
   "metadata": {},
   "outputs": [
    {
     "name": "stdout",
     "output_type": "stream",
     "text": [
      "I am a car, I change my gear 5 times\n",
      "The car is ready to move\n"
     ]
    }
   ],
   "source": [
    "class Vehicle:\n",
    "    steering_shape = \"Circle\"\n",
    "    def __init__(self, no_of_wheels, color):\n",
    "        self.no_of_wheels = no_of_wheels\n",
    "        self.color = color\n",
    "        return\n",
    "    def startEngine(self):\n",
    "        print(\"The car is ready to move\")\n",
    "        return\n",
    "    def accelerate(self, no_of_gears):\n",
    "        print(\"Ichange my gear\", no_of_gears, \"times\")\n",
    "        return\n",
    "class Car(Vehicle):\n",
    "    def __init__(self, no_of_wheels, color, make, model, year):\n",
    "        super().__init__(no_of_wheels, color)\n",
    "        self.make = make\n",
    "        self.model = model\n",
    "        self.year = year\n",
    "        return\n",
    "    def getInfo(self):\n",
    "        print(\"Car color:\", self.color)\n",
    "        print(\"Car moodel:\", self.model)\n",
    "        return\n",
    "    def accelerate(self, no_of_gears):\n",
    "        print(\"I am a car, I change my gear\", no_of_gears, \"times\")\n",
    "        return\n",
    "\n",
    "car1 =Car(4, \"Black\", \"Honda\", \"CRV\", 2010)\n",
    "car1.accelerate(5)\n",
    "car1.startEngine()"
   ]
  },
  {
   "cell_type": "code",
   "execution_count": 6,
   "id": "24d33565",
   "metadata": {},
   "outputs": [
    {
     "ename": "SyntaxError",
     "evalue": "invalid syntax (861783843.py, line 30)",
     "output_type": "error",
     "traceback": [
      "\u001b[1;36m  Cell \u001b[1;32mIn[6], line 30\u001b[1;36m\u001b[0m\n\u001b[1;33m    python =\u001b[0m\n\u001b[1;37m             ^\u001b[0m\n\u001b[1;31mSyntaxError\u001b[0m\u001b[1;31m:\u001b[0m invalid syntax\n"
     ]
    }
   ],
   "source": [
    "class Animal:\n",
    "    def talk(self):\n",
    "        print(\"I can talk\")\n",
    "        return\n",
    "    def move (self):\n",
    "        print(\"I can move\")\n",
    "        return\n",
    "class Bird(Animal):\n",
    "    def talk(self):\n",
    "        print(\"I make pleasant sounds\")\n",
    "        return\n",
    "    def move(self):\n",
    "        print(\"I can walk or fly\")\n",
    "        return\n",
    "    def fly(self):\n",
    "        print(\"I have wings to fly\")\n",
    "        return\n",
    "class Snake(Animal):\n",
    "    def talk(self):\n",
    "        print(\"I make whispering sounds\")\n",
    "        return\n",
    "    def move(self):\n",
    "        print(\"I can only crawl\")\n",
    "        return\n",
    "    \n",
    "sparrow = Bird\n",
    "sparrow.move()\n",
    "sparrow.fly()\n",
    "\n",
    "python = Snake()\n",
    "phython.talk()"
   ]
  },
  {
   "cell_type": "code",
   "execution_count": 7,
   "id": "75d3925b",
   "metadata": {},
   "outputs": [
    {
     "name": "stdout",
     "output_type": "stream",
     "text": [
      "-133\n"
     ]
    }
   ],
   "source": [
    "# Define the two lists of numbers\n",
    "L1 = [10, 20, 30, 25, 32, 45, 50]\n",
    "L2 = [80, 70, 78, 55, 62]\n",
    "\n",
    "# Calculate the sum of L1 and assign it to S1\n",
    "S1 = sum(L1)\n",
    "\n",
    "# Calculate the sum of L2 and assign it to S2\n",
    "S2 = sum(L2)\n",
    "\n",
    "# Subtract S2 from S1 and assign it to a variable\n",
    "result = S1 - S2\n",
    "\n",
    "# Print the result\n",
    "print(result)"
   ]
  },
  {
   "cell_type": "code",
   "execution_count": 21,
   "id": "c8c9b075",
   "metadata": {},
   "outputs": [
    {
     "ename": "TypeError",
     "evalue": "Dog.__init__() takes 3 positional arguments but 4 were given",
     "output_type": "error",
     "traceback": [
      "\u001b[1;31m---------------------------------------------------------------------------\u001b[0m",
      "\u001b[1;31mTypeError\u001b[0m                                 Traceback (most recent call last)",
      "Cell \u001b[1;32mIn[21], line 24\u001b[0m\n\u001b[0;32m     21\u001b[0m     \u001b[38;5;28;01mdef\u001b[39;00m \u001b[38;5;21mtalk\u001b[39m(\u001b[38;5;28mself\u001b[39m):\n\u001b[0;32m     22\u001b[0m         \u001b[38;5;28mprint\u001b[39m(\u001b[38;5;124m\"\u001b[39m\u001b[38;5;124mThe dog can talk\u001b[39m\u001b[38;5;124m\"\u001b[39m)\n\u001b[1;32m---> 24\u001b[0m dog1 \u001b[38;5;241m=\u001b[39m \u001b[43mDog\u001b[49m\u001b[43m(\u001b[49m\u001b[38;5;124;43m\"\u001b[39;49m\u001b[38;5;124;43mpuppy\u001b[39;49m\u001b[38;5;124;43m\"\u001b[39;49m\u001b[43m,\u001b[49m\u001b[43m \u001b[49m\u001b[38;5;241;43m6\u001b[39;49m\u001b[43m,\u001b[49m\u001b[43m \u001b[49m\u001b[38;5;124;43m\"\u001b[39;49m\u001b[38;5;124;43mgerman sheperd\u001b[39;49m\u001b[38;5;124;43m\"\u001b[39;49m\u001b[43m)\u001b[49m\n\u001b[0;32m     25\u001b[0m dog1\u001b[38;5;241m.\u001b[39mtalk()\n",
      "\u001b[1;31mTypeError\u001b[0m: Dog.__init__() takes 3 positional arguments but 4 were given"
     ]
    }
   ],
   "source": [
    "# Create 2 classes: Animal and Dog where the Animal class is the parent class. \n",
    "#Define the walk and talk method in both classes and use the super() to inherit the init method from the parent class.\n",
    "\n",
    "class Animal:\n",
    "    def __init__(self, name, size):\n",
    "        self.name = name\n",
    "        self.size = size\n",
    "        return\n",
    "    def walk(self):\n",
    "        print(\"it can walk\")\n",
    "        return\n",
    "    def talk(self):\n",
    "        print(\"it can talk\")\n",
    "        return\n",
    "\n",
    "class Dog(Animal):\n",
    "    def __init__(self, name, breed):\n",
    "        super().__init__(name, size)\n",
    "        self.breed = breed\n",
    "        return\n",
    "    def talk(self):\n",
    "        print(\"The dog can talk\")\n",
    "    \n",
    "dog1 = Dog(\"puppy\", 6, \"german sheperd\")\n",
    "dog1.talk()"
   ]
  },
  {
   "cell_type": "code",
   "execution_count": null,
   "id": "890dcbbe",
   "metadata": {},
   "outputs": [],
   "source": []
  }
 ],
 "metadata": {
  "kernelspec": {
   "display_name": "Python 3 (ipykernel)",
   "language": "python",
   "name": "python3"
  },
  "language_info": {
   "codemirror_mode": {
    "name": "ipython",
    "version": 3
   },
   "file_extension": ".py",
   "mimetype": "text/x-python",
   "name": "python",
   "nbconvert_exporter": "python",
   "pygments_lexer": "ipython3",
   "version": "3.10.9"
  }
 },
 "nbformat": 4,
 "nbformat_minor": 5
}
