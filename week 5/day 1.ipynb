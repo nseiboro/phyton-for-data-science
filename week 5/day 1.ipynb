{
 "cells": [
  {
   "cell_type": "code",
   "execution_count": 13,
   "id": "f0dfe219",
   "metadata": {},
   "outputs": [
    {
     "data": {
      "text/plain": [
       "'This function returns the sum of 2 numbers'"
      ]
     },
     "execution_count": 13,
     "metadata": {},
     "output_type": "execute_result"
    }
   ],
   "source": [
    "def addNumber(num1, num2):\n",
    "    \"\"\"This function returns the sum of 2 numbers\"\"\"\n",
    "    summed_value = num1 +num2\n",
    "    return summed_value\n",
    "#help(addNumber)\n",
    "\n",
    "addNumber.__doc__\n"
   ]
  },
  {
   "cell_type": "code",
   "execution_count": 7,
   "id": "44a449a1",
   "metadata": {},
   "outputs": [
    {
     "name": "stdout",
     "output_type": "stream",
     "text": [
      "120\n"
     ]
    }
   ],
   "source": [
    "def factorial_iterative(n):\n",
    "    num = 1\n",
    "    while n>=1:\n",
    "        num = num * n\n",
    "        n = n-1\n",
    "    return num\n",
    "factorial = factorial_iterative(5)\n",
    "print(factorial)"
   ]
  },
  {
   "cell_type": "code",
   "execution_count": 12,
   "id": "5b6e88d5",
   "metadata": {},
   "outputs": [
    {
     "name": "stdout",
     "output_type": "stream",
     "text": [
      "[6, 9, 11, 14]\n"
     ]
    }
   ],
   "source": [
    "list1 = [2,3,4,5]\n",
    "list2 =[4,6,7,9]\n",
    "result = [6,9,11,14]\n",
    "\n",
    "def addlist(list_a, list_b):\n",
    "    length = len(list_a)\n",
    "    result_list = []\n",
    "    for i in range(length):\n",
    "        item = list_a[i] + list_b[i]\n",
    "        result_list.append(item)\n",
    "    return result_list\n",
    "\n",
    "print(addlist(list1, list2))"
   ]
  },
  {
   "cell_type": "code",
   "execution_count": 18,
   "id": "b1962229",
   "metadata": {},
   "outputs": [
    {
     "ename": "NameError",
     "evalue": "name 'i' is not defined",
     "output_type": "error",
     "traceback": [
      "\u001b[1;31m---------------------------------------------------------------------------\u001b[0m",
      "\u001b[1;31mNameError\u001b[0m                                 Traceback (most recent call last)",
      "Cell \u001b[1;32mIn[18], line 5\u001b[0m\n\u001b[0;32m      3\u001b[0m     i \u001b[38;5;241m=\u001b[39m \u001b[38;5;28mlist\u001b[39m\n\u001b[0;32m      4\u001b[0m     \u001b[38;5;28;01mreturn\u001b[39;00m \u001b[38;5;28msum\u001b[39m([i\u001b[38;5;241m*\u001b[39m\u001b[38;5;241m*\u001b[39m\u001b[38;5;241m2\u001b[39m \u001b[38;5;28;01mfor\u001b[39;00m i \u001b[38;5;129;01min\u001b[39;00m \u001b[38;5;28mlist\u001b[39m])\n\u001b[1;32m----> 5\u001b[0m \u001b[38;5;28mprint\u001b[39m(\u001b[43mi\u001b[49m)\n",
      "\u001b[1;31mNameError\u001b[0m: name 'i' is not defined"
     ]
    }
   ],
   "source": [
    "list = [1, 2, 3, 4]\n",
    "def sum_of_squares(list):\n",
    "    "
   ]
  },
  {
   "cell_type": "code",
   "execution_count": 19,
   "id": "c4511a4c",
   "metadata": {},
   "outputs": [
    {
     "name": "stdout",
     "output_type": "stream",
     "text": [
      "Name: Samuel\n",
      "Age: 21\n"
     ]
    }
   ],
   "source": [
    "#function with default value\n",
    "def printinfo (name, age=21):\n",
    "    \"this function prints the info that are passed into the function\"\n",
    "    print(\"Name:\", name)\n",
    "    print(\"Age:\", age)\n",
    "    return\n",
    "printinfo(\"Samuel\")"
   ]
  },
  {
   "cell_type": "code",
   "execution_count": 20,
   "id": "8757a8f5",
   "metadata": {},
   "outputs": [
    {
     "name": "stdout",
     "output_type": "stream",
     "text": [
      "Name: Joel\n",
      "Total score: 519\n"
     ]
    }
   ],
   "source": [
    "#function with variable legth argument\n",
    "def scoreTotal(name, *scores):\n",
    "    print(\"Name:\", name)\n",
    "    total = 0\n",
    "    for score in scores:\n",
    "        total += score\n",
    "    print(\"Total score:\", total)\n",
    "    return\n",
    "scoreTotal(\"Joel\", 40,50,90,40,100,89,80,30)"
   ]
  },
  {
   "cell_type": "code",
   "execution_count": 23,
   "id": "3d0535bd",
   "metadata": {},
   "outputs": [
    {
     "name": "stdout",
     "output_type": "stream",
     "text": [
      "{'param1': 50, 'pram2': 80, 'param3': 'lagos'}\n",
      "param1 50\n",
      "pram2 80\n",
      "param3 lagos\n",
      "[90, 50, 45, 40, 30]\n"
     ]
    }
   ],
   "source": [
    "#function with keyword argument\n",
    "def kw_args_function(**args):\n",
    "    print(args)\n",
    "    for key, value in args.items():\n",
    "        print(key,value)\n",
    "    return\n",
    "kw_args_function(param1=50, pram2=80, param3=\"lagos\")\n",
    "\n",
    "list1 = [40,30,50,45,90]\n",
    "list1.sort(reverse=True)\n",
    "print(list1)"
   ]
  },
  {
   "cell_type": "code",
   "execution_count": 25,
   "id": "fd8a0e16",
   "metadata": {},
   "outputs": [
    {
     "name": "stdout",
     "output_type": "stream",
     "text": [
      "{'math': 45, 'arts': 80, 'english': 70}\n",
      "math 45\n",
      "arts 80\n",
      "english 70\n"
     ]
    }
   ],
   "source": [
    "def kw_args_function(**args):\n",
    "    print(args)\n",
    "    for subject, score in args.items():\n",
    "        print(subject,score)\n",
    "    return\n",
    "kw_args_function(math=45, arts=80, english=70 )"
   ]
  },
  {
   "cell_type": "code",
   "execution_count": null,
   "id": "d1102677",
   "metadata": {},
   "outputs": [],
   "source": []
  }
 ],
 "metadata": {
  "kernelspec": {
   "display_name": "Python 3 (ipykernel)",
   "language": "python",
   "name": "python3"
  },
  "language_info": {
   "codemirror_mode": {
    "name": "ipython",
    "version": 3
   },
   "file_extension": ".py",
   "mimetype": "text/x-python",
   "name": "python",
   "nbconvert_exporter": "python",
   "pygments_lexer": "ipython3",
   "version": "3.10.9"
  }
 },
 "nbformat": 4,
 "nbformat_minor": 5
}
