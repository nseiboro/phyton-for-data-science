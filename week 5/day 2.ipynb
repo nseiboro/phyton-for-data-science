{
 "cells": [
  {
   "cell_type": "code",
   "execution_count": 10,
   "id": "525e3a9d",
   "metadata": {},
   "outputs": [
    {
     "name": "stdout",
     "output_type": "stream",
     "text": [
      "1\n"
     ]
    }
   ],
   "source": [
    "list1 = [1,3,5,[4,5,7,[4,2,6,[4,8,9]]],5,8,(8,5),{\"First\":50}]\n",
    "\n",
    "def extract_items_recur(list_input):\n",
    "    for item in list_input:\n",
    "        if type(item) in [list, tuple,dict]:\n",
    "            extract_items_recur(item)\n",
    "        else:\n",
    "                print(item)\n",
    "\n",
    "        return\n",
    "extract_items_recur(list1)"
   ]
  },
  {
   "cell_type": "code",
   "execution_count": 5,
   "id": "be6b182d",
   "metadata": {},
   "outputs": [
    {
     "ename": "IndentationError",
     "evalue": "unexpected indent (2088267825.py, line 2)",
     "output_type": "error",
     "traceback": [
      "\u001b[1;36m  Cell \u001b[1;32mIn[5], line 2\u001b[1;36m\u001b[0m\n\u001b[1;33m    values = values.split(\";\")\u001b[0m\n\u001b[1;37m    ^\u001b[0m\n\u001b[1;31mIndentationError\u001b[0m\u001b[1;31m:\u001b[0m unexpected indent\n"
     ]
    }
   ],
   "source": [
    " values = input(\"Enter scores seperated by comma e.g 7,8,9;\")\n",
    "    values = values.split(\";\")\n",
    "    # Calculating the sum of the values\n",
    "    total = sum(values_list)\n",
    "    # Calculating the average of the values\n",
    "    average = total / len(values.split)\n",
    "    # Displaying the sum and average of the values\n",
    "    print(\"The sum of the values is:\", total)\n",
    "    print(\"The average of the values is:\", average)\n"
   ]
  },
  {
   "cell_type": "code",
   "execution_count": 1,
   "id": "d33013d7",
   "metadata": {},
   "outputs": [
    {
     "name": "stdout",
     "output_type": "stream",
     "text": [
      "Enter a string: adebayo akande\n",
      "Not all vowels are there.\n"
     ]
    }
   ],
   "source": [
    "def check_vowels(s):\n",
    "    vowels = set('aeiou')\n",
    "    return vowels.issubset(set(s.lower()))\n",
    "\n",
    "def check_alphabetical(s):\n",
    "    return s[0] == 'a' and s[-1] == 'z'\n",
    "\n",
    "s = input(\"Enter a string: \")\n",
    "if check_vowels(s):\n",
    "    print(\"All vowels are there!\")\n",
    "    if check_alphabetical(s):\n",
    "        print(\"And it could be alphabetical!\")\n",
    "else:\n",
    "    print(\"Not all vowels are there.\")"
   ]
  },
  {
   "cell_type": "code",
   "execution_count": null,
   "id": "51f8c95b",
   "metadata": {},
   "outputs": [],
   "source": []
  }
 ],
 "metadata": {
  "kernelspec": {
   "display_name": "Python 3 (ipykernel)",
   "language": "python",
   "name": "python3"
  },
  "language_info": {
   "codemirror_mode": {
    "name": "ipython",
    "version": 3
   },
   "file_extension": ".py",
   "mimetype": "text/x-python",
   "name": "python",
   "nbconvert_exporter": "python",
   "pygments_lexer": "ipython3",
   "version": "3.10.9"
  }
 },
 "nbformat": 4,
 "nbformat_minor": 5
}
