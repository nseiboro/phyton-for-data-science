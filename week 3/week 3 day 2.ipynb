{
 "cells": [
  {
   "cell_type": "code",
   "execution_count": 4,
   "id": "d4f4588a",
   "metadata": {},
   "outputs": [
    {
     "name": "stdout",
     "output_type": "stream",
     "text": [
      "B\n",
      "a\n",
      "n\n",
      "a\n",
      "n\n",
      "a\n",
      "cashew is of length = 6\n",
      "orange is of length = 6\n",
      "Banana is of length = 6\n",
      "Mango is of length = 5\n",
      "Pineapple is of length = 9\n"
     ]
    }
   ],
   "source": [
    "fruit = 'Banana'\n",
    "for item in fruit:\n",
    "    print(item)\n",
    "fruit_list = ['cashew', 'orange', 'Banana', 'Mango', 'Pineapple']\n",
    "for fruit in fruit_list:\n",
    "    print(fruit, \"is of length =\", len(fruit))"
   ]
  },
  {
   "cell_type": "code",
   "execution_count": 6,
   "id": "626177fd",
   "metadata": {},
   "outputs": [
    {
     "name": "stdout",
     "output_type": "stream",
     "text": [
      "2 squared =  4\n",
      "4 squared =  16\n",
      "6 squared =  36\n",
      "8 squared =  64\n",
      "10 squared =  100\n",
      "12 squared =  144\n",
      "14 squared =  196\n",
      "16 squared =  256\n",
      "18 squared =  324\n",
      "20 squared =  400\n",
      "22 squared =  484\n",
      "24 squared =  576\n",
      "26 squared =  676\n",
      "28 squared =  784\n",
      "30 squared =  900\n"
     ]
    }
   ],
   "source": [
    "#working with for loop and range function\n",
    "for number in range (2, 31, 2):\n",
    "    print(number, \"squared = \", number*number)"
   ]
  },
  {
   "cell_type": "code",
   "execution_count": 7,
   "id": "5e4bb8d5",
   "metadata": {},
   "outputs": [
    {
     "name": "stdout",
     "output_type": "stream",
     "text": [
      "count is at 0\n",
      "count is at 1\n",
      "count is at 2\n",
      "count is at 3\n",
      "count is at 4\n",
      "count is at 5\n",
      "count is at 6\n",
      "count is at 7\n",
      "count is at 8\n",
      "we are done!\n"
     ]
    }
   ],
   "source": [
    "#working with while\n",
    "count = 0\n",
    "break_point = 9\n",
    "while (count < break_point):\n",
    "    print(\"count is at\", count)\n",
    "    count += 1\n",
    "    #count = count + 1\n",
    "print(\"we are done!\")"
   ]
  },
  {
   "cell_type": "code",
   "execution_count": 9,
   "id": "8f534394",
   "metadata": {},
   "outputs": [
    {
     "name": "stdout",
     "output_type": "stream",
     "text": [
      "cashew\n",
      "orange\n",
      "Banana\n",
      "Mango\n",
      "Pineapple\n",
      "the end!\n"
     ]
    }
   ],
   "source": [
    "fruit_list = ['cashew', 'orange', 'Banana', 'Mango', 'Pineapple']\n",
    "index = 0\n",
    "length = len(fruit_list)\n",
    "while (index < length):\n",
    "    print(fruit_list[index])\n",
    "    index+=1\n",
    "    #index = index + 1\n",
    "\n",
    "print(\"the end!\")\n"
   ]
  },
  {
   "cell_type": "code",
   "execution_count": 17,
   "id": "d4c1eb9c",
   "metadata": {},
   "outputs": [
    {
     "name": "stdout",
     "output_type": "stream",
     "text": [
      "2 squared= 4\n",
      "5 squared= 25\n",
      "7 squared= 49\n",
      "9 squared= 81\n",
      "4 squared= 16\n",
      "12 squared= 144\n"
     ]
    }
   ],
   "source": [
    "number_list = [2,5,7,9,4,12]\n",
    "for number in number_list:\n",
    "    print(number,\"squared=\", number*number)\n",
    "\n"
   ]
  },
  {
   "cell_type": "code",
   "execution_count": 19,
   "id": "6b78b762",
   "metadata": {},
   "outputs": [
    {
     "name": "stdout",
     "output_type": "stream",
     "text": [
      "2 squared = 4\n",
      "5 squared = 25\n",
      "7 squared = 49\n",
      "9 squared = 81\n",
      "4 squared = 16\n",
      "12 squared = 144\n",
      "the end!\n"
     ]
    }
   ],
   "source": [
    "number_list =[2,5,7,9,4,12]\n",
    "index = 0\n",
    "length = len(number_list)\n",
    "while (index < length):\n",
    "    print(number_list[index], \"squared =\" , number_list[index]**2)\n",
    "    index += 1\n",
    "    #index = index + 1\n",
    "\n",
    "print(\"the end!\")\n",
    "\n",
    "\n",
    "\n"
   ]
  },
  {
   "cell_type": "code",
   "execution_count": 22,
   "id": "57d521f5",
   "metadata": {},
   "outputs": [
    {
     "name": "stdout",
     "output_type": "stream",
     "text": [
      "2 squared= 4\n",
      "4 squared= 16\n",
      "12 squared= 144\n"
     ]
    }
   ],
   "source": [
    "#using conditionals in loop \n",
    "#printing only even numbers \n",
    "\n",
    "number_list = [2,5,7,9,4,12]\n",
    "for number in number_list:\n",
    "    square = number**2\n",
    "    if (square%2 == 0):\n",
    "        print(number,\"squared=\", square)\n",
    "\n",
    "        \n",
    "    "
   ]
  },
  {
   "cell_type": "code",
   "execution_count": 26,
   "id": "7f743b48",
   "metadata": {},
   "outputs": [
    {
     "name": "stdout",
     "output_type": "stream",
     "text": [
      "for 1\n",
      "(1, 'x', 6, '=', 6)\n",
      "(1, 'x', 7, '=', 7)\n",
      "(1, 'x', 8, '=', 8)\n",
      "(1, 'x', 9, '=', 9)\n",
      "(1, 'x', 10, '=', 10)\n",
      "for 2\n",
      "(2, 'x', 6, '=', 12)\n",
      "(2, 'x', 7, '=', 14)\n",
      "(2, 'x', 8, '=', 16)\n",
      "(2, 'x', 9, '=', 18)\n",
      "(2, 'x', 10, '=', 20)\n",
      "for 2\n",
      "(2, 'x', 6, '=', 12)\n",
      "(2, 'x', 7, '=', 14)\n",
      "(2, 'x', 8, '=', 16)\n",
      "(2, 'x', 9, '=', 18)\n",
      "(2, 'x', 10, '=', 20)\n",
      "for 4\n",
      "(4, 'x', 6, '=', 24)\n",
      "(4, 'x', 7, '=', 28)\n",
      "(4, 'x', 8, '=', 32)\n",
      "(4, 'x', 9, '=', 36)\n",
      "(4, 'x', 10, '=', 40)\n",
      "for 5\n",
      "(5, 'x', 6, '=', 30)\n",
      "(5, 'x', 7, '=', 35)\n",
      "(5, 'x', 8, '=', 40)\n",
      "(5, 'x', 9, '=', 45)\n",
      "(5, 'x', 10, '=', 50)\n"
     ]
    }
   ],
   "source": [
    "#nested loop\n",
    "num_list1 = [1,2,2,4,5]\n",
    "num_list2 = [6,7,8,9,10]\n",
    "for x in num_list1:\n",
    "    print(\"for\",x)\n",
    "    for y in num_list2:\n",
    "        print((x, \"x\", y, \"=\", x*y))"
   ]
  },
  {
   "cell_type": "code",
   "execution_count": 27,
   "id": "f5c81f7b",
   "metadata": {},
   "outputs": [
    {
     "ename": "TypeError",
     "evalue": "'type' object is not subscriptable",
     "output_type": "error",
     "traceback": [
      "\u001b[1;31m---------------------------------------------------------------------------\u001b[0m",
      "\u001b[1;31mTypeError\u001b[0m                                 Traceback (most recent call last)",
      "Cell \u001b[1;32mIn[27], line 2\u001b[0m\n\u001b[0;32m      1\u001b[0m \u001b[38;5;66;03m#nested loop\u001b[39;00m\n\u001b[1;32m----> 2\u001b[0m num_list1 \u001b[38;5;241m=\u001b[39m \u001b[38;5;28;43mrange\u001b[39;49m\u001b[43m[\u001b[49m\u001b[38;5;241;43m1\u001b[39;49m\u001b[43m,\u001b[49m\u001b[38;5;241;43m13\u001b[39;49m\u001b[43m]\u001b[49m\n\u001b[0;32m      3\u001b[0m num_list2 \u001b[38;5;241m=\u001b[39m \u001b[38;5;28mrange\u001b[39m[\u001b[38;5;241m1\u001b[39m,\u001b[38;5;241m13\u001b[39m]\n\u001b[0;32m      4\u001b[0m \u001b[38;5;28;01mfor\u001b[39;00m x \u001b[38;5;129;01min\u001b[39;00m num_list1:\n",
      "\u001b[1;31mTypeError\u001b[0m: 'type' object is not subscriptable"
     ]
    }
   ],
   "source": [
    "#nested loop\n",
    "num_list1 = range[1,13]\n",
    "num_list2 = range[1,13]\n",
    "for x in num_list1:\n",
    "    print(\"for\",x)\n",
    "    for y in num_list2:\n",
    "        print((x, \"x\", y, \"=\", x*y))"
   ]
  },
  {
   "cell_type": "code",
   "execution_count": 32,
   "id": "305e6359",
   "metadata": {},
   "outputs": [
    {
     "name": "stdout",
     "output_type": "stream",
     "text": [
      "cow\n",
      "goat\n"
     ]
    }
   ],
   "source": [
    "#using break statement in a loop\n",
    "animals = [\"cow\", \"goat\", \"dog\" , \"cat\"]\n",
    "for animal in animals:\n",
    "    print(animal)\n",
    "    if animal == \"goat\":\n",
    "        break\n",
    "    \n",
    "    "
   ]
  },
  {
   "cell_type": "code",
   "execution_count": 30,
   "id": "7128f996",
   "metadata": {},
   "outputs": [
    {
     "name": "stdout",
     "output_type": "stream",
     "text": [
      "cow\n",
      "dog\n",
      "cat\n"
     ]
    }
   ],
   "source": [
    "#using break statement in a loop\n",
    "animals = [\"cow\", \"goat\", \"dog\" , \"cat\"]\n",
    "for animal in animals:\n",
    "    if animal == \"goat\":\n",
    "        continue\n",
    "    print(animal)"
   ]
  },
  {
   "cell_type": "code",
   "execution_count": null,
   "id": "a9215266",
   "metadata": {},
   "outputs": [],
   "source": []
  }
 ],
 "metadata": {
  "kernelspec": {
   "display_name": "Python 3 (ipykernel)",
   "language": "python",
   "name": "python3"
  },
  "language_info": {
   "codemirror_mode": {
    "name": "ipython",
    "version": 3
   },
   "file_extension": ".py",
   "mimetype": "text/x-python",
   "name": "python",
   "nbconvert_exporter": "python",
   "pygments_lexer": "ipython3",
   "version": "3.10.9"
  }
 },
 "nbformat": 4,
 "nbformat_minor": 5
}
