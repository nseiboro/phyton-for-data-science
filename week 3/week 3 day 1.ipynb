{
 "cells": [
  {
   "cell_type": "raw",
   "id": "bd7817fc",
   "metadata": {},
   "source": []
  },
  {
   "cell_type": "code",
   "execution_count": 7,
   "id": "475087c9",
   "metadata": {},
   "outputs": [
    {
     "name": "stdout",
     "output_type": "stream",
     "text": [
      "I\n",
      "G\n",
      "G\n",
      "k\n"
     ]
    }
   ],
   "source": [
    "#slicing an iterable using indexing\n",
    "str_iterable = \"Geeks for GeeksI\"\n",
    "last_item = str_iterable[-1]\n",
    "print(last_item)\n",
    "\n",
    "print(str_iterable[0])\n",
    "print(str_iterable[-len(str_iterable)])\n",
    "print(str_iterable[3])"
   ]
  },
  {
   "cell_type": "code",
   "execution_count": 10,
   "id": "ef5a6700",
   "metadata": {},
   "outputs": [
    {
     "name": "stdout",
     "output_type": "stream",
     "text": [
      "Ade\n",
      "simi\n"
     ]
    }
   ],
   "source": [
    "list_iterable = ['simi', 'kola', '50', '70', 'Ade']\n",
    "last_item = list_iterable[-1]\n",
    "print(last_item)\n",
    "print(list_iterable[0])"
   ]
  },
  {
   "cell_type": "code",
   "execution_count": 23,
   "id": "82439be3",
   "metadata": {},
   "outputs": [
    {
     "name": "stdout",
     "output_type": "stream",
     "text": [
      "for GeeksI\n",
      "for\n",
      "for\n",
      "['kola', '50', '70', 'Ade']\n",
      "['kola', '50', '70']\n"
     ]
    }
   ],
   "source": [
    "#slicing an iterable using indexing\n",
    "str_iterable = \"Geeks for GeeksI\"\n",
    "list_iterable = ['simi', 'kola', '50', '70', 'Ade']\n",
    "sliced_str = str_iterable[6:]\n",
    "print(sliced_str)\n",
    "sliced_str1 = str_iterable[6:9]\n",
    "print(sliced_str1)\n",
    "sliced_str2 = str_iterable[-10:-7]\n",
    "print(sliced_str2)\n",
    "\n",
    "list_iterable = ['simi', 'kola', '50', '70', 'Ade']\n",
    "print(list_iterable[1:])\n",
    "print(list_iterable[1:4])"
   ]
  },
  {
   "cell_type": "code",
   "execution_count": 25,
   "id": "9bacc800",
   "metadata": {},
   "outputs": [
    {
     "name": "stdout",
     "output_type": "stream",
     "text": [
      "name\n",
      "name \n"
     ]
    }
   ],
   "source": [
    "str_iterable = \"My name is John\"\n",
    "sliced_str1 = str_iterable[3:7]\n",
    "print(sliced_str1)\n",
    "sliced_str2 = str_iterable[-12:-7]\n",
    "print(sliced_str2)\n",
    "\n"
   ]
  },
  {
   "cell_type": "code",
   "execution_count": 11,
   "id": "c566235a",
   "metadata": {},
   "outputs": [
    {
     "name": "stdout",
     "output_type": "stream",
     "text": [
      "please in put your exam score:89\n",
      "Excellent - A\n"
     ]
    }
   ],
   "source": [
    "#working with conditionals\n",
    "score = float(input(\"please in put your exam score:\"))\n",
    "if score < 0:\n",
    "    print(\"invalid score\")\n",
    "elif score <= 30:\n",
    "    print(\"fail - F\")\n",
    "elif score > 30 and score < 41: \n",
    "    print(\"fail - E\")\n",
    "elif score > 40 and score < 51:\n",
    "    print(\"Ok - D\")\n",
    "elif score > 50 and score < 61:\n",
    "    print(\"Good - c\")\n",
    "elif score > 60 and score < 71:\n",
    "    print(\"very good - B\")\n",
    "else:\n",
    "    print(\"Excellent - A\")\n",
    "    \n",
    "\n"
   ]
  },
  {
   "cell_type": "code",
   "execution_count": 16,
   "id": "44ce8b9d",
   "metadata": {},
   "outputs": [
    {
     "name": "stdout",
     "output_type": "stream",
     "text": [
      "please enter your temperature30\n",
      "severe\n"
     ]
    }
   ],
   "source": [
    "temperature = int(input(\"please enter your temperature\"))\n",
    "if temperature < 0 :\n",
    "    print(\"Invalid temperature\")\n",
    "elif temperature > 0 and temperature <= 20:\n",
    "    print(\"mild\")\n",
    "elif temperature >= 21 and temperature <= 50:\n",
    "    print(\"severe\")\n",
    "else:\n",
    "    print(\"critical\")"
   ]
  },
  {
   "cell_type": "code",
   "execution_count": null,
   "id": "401bfa41",
   "metadata": {},
   "outputs": [],
   "source": []
  }
 ],
 "metadata": {
  "kernelspec": {
   "display_name": "Python 3 (ipykernel)",
   "language": "python",
   "name": "python3"
  },
  "language_info": {
   "codemirror_mode": {
    "name": "ipython",
    "version": 3
   },
   "file_extension": ".py",
   "mimetype": "text/x-python",
   "name": "python",
   "nbconvert_exporter": "python",
   "pygments_lexer": "ipython3",
   "version": "3.10.9"
  }
 },
 "nbformat": 4,
 "nbformat_minor": 5
}
