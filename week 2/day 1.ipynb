{
 "cells": [
  {
   "cell_type": "code",
   "execution_count": 1,
   "id": "9a6e9316",
   "metadata": {},
   "outputs": [
    {
     "name": "stdout",
     "output_type": "stream",
     "text": [
      "c = 30\n",
      "d = 9765625\n",
      "e = 48828125\n"
     ]
    }
   ],
   "source": [
    "a = 5\n",
    "b = 6\n",
    "\n",
    "c = a * b\n",
    "d  = a ** 10 \n",
    "e = d * a\n",
    "\n",
    "print (\"c =\", c)\n",
    "print (\"d =\", d)\n",
    "print (\"e =\", e)"
   ]
  },
  {
   "cell_type": "code",
   "execution_count": 2,
   "id": "d91386c2",
   "metadata": {},
   "outputs": [
    {
     "ename": "IndentationError",
     "evalue": "unexpected indent (2533979352.py, line 2)",
     "output_type": "error",
     "traceback": [
      "\u001b[1;36m  Cell \u001b[1;32mIn[2], line 2\u001b[1;36m\u001b[0m\n\u001b[1;33m    12.5 = float_type\u001b[0m\n\u001b[1;37m    ^\u001b[0m\n\u001b[1;31mIndentationError\u001b[0m\u001b[1;31m:\u001b[0m unexpected indent\n"
     ]
    }
   ],
   "source": [
    "Deji, Bayo, Ade, Femi = string_type\n",
    " 12.5 = float_type\n",
    "[\"deji\", \"bayo\", \"ade\"] = list_type\n",
    "{ \"deji\": 12.5, \"bayo\": 34.5, \"ade\": 45.6} = dictionary_type\n",
    "print (\"string_type is of type\", type(string_type))   \n",
    "print (\" float_type is of type\", type (float_type))\n",
    "print (\"list_type is of type\", type(list_type))\n",
    "print (\" dictioary_type is of type\", type(dictionary_type))\n"
   ]
  },
  {
   "cell_type": "code",
   "execution_count": null,
   "id": "6cc3b4d7",
   "metadata": {},
   "outputs": [],
   "source": [
    "#data types\n",
    "name = ' David Olaniyi'\n",
    "string_int = \"45\"\n",
    "a = 30\n",
    "b = 40.4 \n",
    "c = [ 1,3,4]\n",
    "f = ['Nse', 'Dayo', 'Aisha']\n",
    "e = complex (3,2) #3+2i\n",
    "d = {'Nse', 'Dayo', 'Aisha'}\n",
    "g = ('Nse','Dayo', 'Aisha')\n",
    "h= { \"name\": \"David\", \"age:5\", \"location\":\"Lagos\"}\n",
    "\n",
    "print(\"name is of type\", type(name))\n",
    "print(\"string_int is of type\", type(string_int))\n",
    "print(\"a is of type\", type(a))\n",
    "print(\"b is of type\", type(b))\n",
    "print(\"c is of type\", type(c))\n",
    "\n",
    "\n"
   ]
  }
 ],
 "metadata": {
  "kernelspec": {
   "display_name": "Python 3 (ipykernel)",
   "language": "python",
   "name": "python3"
  },
  "language_info": {
   "codemirror_mode": {
    "name": "ipython",
    "version": 3
   },
   "file_extension": ".py",
   "mimetype": "text/x-python",
   "name": "python",
   "nbconvert_exporter": "python",
   "pygments_lexer": "ipython3",
   "version": "3.10.9"
  }
 },
 "nbformat": 4,
 "nbformat_minor": 5
}
