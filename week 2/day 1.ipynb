{
 "cells": [
  {
   "cell_type": "code",
   "execution_count": 1,
   "id": "853f4f64",
   "metadata": {},
   "outputs": [
    {
     "name": "stdout",
     "output_type": "stream",
     "text": [
      "c = 30\n",
      "d = 9765625\n",
      "e = 48828125\n"
     ]
    }
   ],
   "source": [
    "a = 5\n",
    "b = 6\n",
    "\n",
    "c = a * b\n",
    "d  = a ** 10 \n",
    "e = d * a\n",
    "\n",
    "print (\"c =\", c)\n",
    "print (\"d =\", d)\n",
    "print (\"e =\", e)"
   ]
  },
  {
   "cell_type": "code",
   "execution_count": null,
   "id": "723fedc3",
   "metadata": {},
   "outputs": [],
   "source": [
    "Deji, Bayo, Ade, Femi = string_type\n",
    " 12.5 = float_type\n",
    "[\"deji\", \"bayo\", \"ade\"] = list_type\n",
    "{ \"deji\": 12.5, \"bayo\": 34.5, \"ade\": 45.6} = dictionary_type\n",
    "print (\"string_type is of type\", type(string_type))   \n",
    "print (\" float_type is of type\", type (float_type))\n",
    "print (\"list_type is of type\", type(list_type))\n",
    "print (\" dictioary_type is of type\", type(dictionary_type))\n"
   ]
  }
 ],
 "metadata": {
  "kernelspec": {
   "display_name": "Python 3 (ipykernel)",
   "language": "python",
   "name": "python3"
  },
  "language_info": {
   "codemirror_mode": {
    "name": "ipython",
    "version": 3
   },
   "file_extension": ".py",
   "mimetype": "text/x-python",
   "name": "python",
   "nbconvert_exporter": "python",
   "pygments_lexer": "ipython3",
   "version": "3.10.9"
  }
 },
 "nbformat": 4,
 "nbformat_minor": 5
}
