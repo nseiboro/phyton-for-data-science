{
 "cells": [
  {
   "cell_type": "code",
   "execution_count": 3,
   "id": "88a161a2",
   "metadata": {},
   "outputs": [
    {
     "name": "stdout",
     "output_type": "stream",
     "text": [
      "False\n",
      "True\n",
      "--testing logical operators--\n",
      "False\n",
      "True\n",
      "True\n"
     ]
    }
   ],
   "source": [
    "#operations with comparison operators\n",
    "# ==, >,<,<=,>=, !=\n",
    "\n",
    "a = 5\n",
    "b = 3\n",
    "c = 20\n",
    "print(b > a)\n",
    "print (a <= c)\n",
    "\n",
    "#using logical operators\n",
    "print(\"--testing logical operators--\")\n",
    "print(a>b and a>c)\n",
    "print (a>b or a>c)\n",
    "print( a!=b or a==c)"
   ]
  },
  {
   "cell_type": "code",
   "execution_count": 6,
   "id": "3b84f47b",
   "metadata": {},
   "outputs": [
    {
     "name": "stdout",
     "output_type": "stream",
     "text": [
      "18.2\n",
      "0.5\n",
      "12\n"
     ]
    }
   ],
   "source": [
    "#using built-in function\n",
    "a = -18.2\n",
    "b = abs(a)\n",
    "print(b)\n",
    "print(abs(-0.5))\n",
    "print(abs(12))"
   ]
  },
  {
   "cell_type": "code",
   "execution_count": 7,
   "id": "d2387da9",
   "metadata": {},
   "outputs": [
    {
     "name": "stdout",
     "output_type": "stream",
     "text": [
      "min score = 21\n",
      "max_score = 90\n"
     ]
    }
   ],
   "source": [
    "#using built-in functions\n",
    "scores = [40, 46, 60,23, 80, 58, 40, 21,45, 90]\n",
    "min_score = min(scores)\n",
    "max_score= max(scores)\n",
    "print('min score =', min_score)\n",
    "print('max_score =', max_score)"
   ]
  },
  {
   "cell_type": "code",
   "execution_count": 9,
   "id": "5528281f",
   "metadata": {},
   "outputs": [
    {
     "name": "stdout",
     "output_type": "stream",
     "text": [
      "503\n",
      "10\n",
      "11\n"
     ]
    }
   ],
   "source": [
    "#using built-in functions\n",
    "scores = [40, 46, 60,23, 80, 58, 40, 21,45, 90]\n",
    "mystr ='Hello world'\n",
    "total = sum(scores)\n",
    "print(total)\n",
    "print(len(scores))\n",
    "print(len(mystr))\n"
   ]
  },
  {
   "cell_type": "code",
   "execution_count": 18,
   "id": "5b10b231",
   "metadata": {},
   "outputs": [
    {
     "name": "stdout",
     "output_type": "stream",
     "text": [
      "my score is =30\n",
      "<class 'str'>\n",
      "<class 'float'>\n",
      "50\n",
      "<class 'int'>\n"
     ]
    }
   ],
   "source": [
    "#using built-in functions\n",
    "a= 30\n",
    "b = \"my score is =\"\n",
    "c = b + str(a)\n",
    "print (c)\n",
    "print(type(str(a)))\n",
    "d = 50.7\n",
    "print(type(d))\n",
    "e = int(d)\n",
    "print(e)\n",
    "print(type(e))"
   ]
  },
  {
   "cell_type": "code",
   "execution_count": 16,
   "id": "cd10e72b",
   "metadata": {},
   "outputs": [
    {
     "name": "stdout",
     "output_type": "stream",
     "text": [
      "459\n",
      "min score = 24\n",
      "max_score = 90\n",
      "8\n",
      "57.375\n"
     ]
    }
   ],
   "source": [
    "#using built-in functions\n",
    "scores = [45,60, 69, 63, 78, 30, 24, 90]\n",
    "total = sum(scores)\n",
    "min_score = min(scores)\n",
    "max_score= max(scores)\n",
    "print(total)\n",
    "print('min score =', min_score)\n",
    "print('max_score =', max_score)\n",
    "print(len(scores))\n",
    "print(sum(scores)/len(scores))"
   ]
  },
  {
   "cell_type": "code",
   "execution_count": 20,
   "id": "1e6c12e7",
   "metadata": {},
   "outputs": [
    {
     "name": "stdout",
     "output_type": "stream",
     "text": [
      "num_range = [0, 1, 2, 3, 4, 5, 6, 7, 8, 9]\n",
      "num_range2 = [1, 2, 3, 4, 5, 6, 7, 8, 9]\n",
      "num_range3 = [1, 3, 5, 7, 9]\n",
      "num_range4 = [5, 6, 7, 8, 9, 10, 11, 12, 13, 14, 15, 16, 17, 18, 19, 20]\n"
     ]
    }
   ],
   "source": [
    "#rnge from 0 to 10 = 0,1,2,3,4,5,6,7,8,9\n",
    "n = 10\n",
    "start_point = 1\n",
    "step = 2\n",
    "num_range = range(n) #values from 0 to n-1\n",
    "num_range2 = range(start_point, n) #values from start_point to n-1 -1,2,3,..9\n",
    "num_range3 = range(start_point, n, step)#values from start_point to n-1 -1,3, 5, 7, 9\n",
    "num_range4 = range(5, 21)\n",
    "print(\"num_range =\", list(num_range))\n",
    "print(\"num_range2 =\", list(num_range2))\n",
    "print(\"num_range3 =\", list(num_range3))\n",
    "print(\"num_range4 =\", list(num_range4))\n",
    "    "
   ]
  },
  {
   "cell_type": "code",
   "execution_count": 21,
   "id": "f398b22a",
   "metadata": {},
   "outputs": [
    {
     "name": "stdout",
     "output_type": "stream",
     "text": [
      "EMMANUEL\n",
      "emmanuel\n",
      "Emmanuel\n",
      "Phyton For Data Science\n"
     ]
    }
   ],
   "source": [
    "# lower, upper, strip, join, split\n",
    "name = \"emmanuel\"\n",
    "name_uppercase = name.upper()\n",
    "name_lowercase = name_uppercase.lower()\n",
    "print(name_uppercase)\n",
    "print(name_lowercase)\n",
    "print(name.capitalize())\n",
    "\n",
    "heading = \"Phyton for data science\"\n",
    "print(heading.title())"
   ]
  },
  {
   "cell_type": "code",
   "execution_count": null,
   "id": "69616eab",
   "metadata": {},
   "outputs": [],
   "source": []
  }
 ],
 "metadata": {
  "kernelspec": {
   "display_name": "Python 3 (ipykernel)",
   "language": "python",
   "name": "python3"
  },
  "language_info": {
   "codemirror_mode": {
    "name": "ipython",
    "version": 3
   },
   "file_extension": ".py",
   "mimetype": "text/x-python",
   "name": "python",
   "nbconvert_exporter": "python",
   "pygments_lexer": "ipython3",
   "version": "3.10.9"
  }
 },
 "nbformat": 4,
 "nbformat_minor": 5
}
