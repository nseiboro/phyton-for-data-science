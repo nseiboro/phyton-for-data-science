{
 "cells": [
  {
   "cell_type": "code",
   "execution_count": 3,
   "id": "723654b5",
   "metadata": {},
   "outputs": [
    {
     "name": "stdout",
     "output_type": "stream",
     "text": [
      "[2, 4, 5, 7, 8, 5, 2, 9]\n",
      "[2, 4, 5, 8, 5, 2, 9]\n",
      "2\n"
     ]
    }
   ],
   "source": [
    "#working with list data structure\n",
    "my_list = [2,4,5,7,8,5,2]\n",
    "my_list.append(9)\n",
    "\n",
    "\n",
    "print(my_list)\n",
    "my_list.remove(7)\n",
    "print(my_list)\n",
    "print(my_list.count(5))\n",
    "\n"
   ]
  },
  {
   "cell_type": "code",
   "execution_count": 4,
   "id": "6cf8ab91",
   "metadata": {},
   "outputs": [
    {
     "name": "stdout",
     "output_type": "stream",
     "text": [
      "2 appeared 2 times\n",
      "4 appeared 1 times\n",
      "5 appeared 2 times\n",
      "7 appeared 1 times\n",
      "8 appeared 1 times\n",
      "5 appeared 2 times\n",
      "2 appeared 2 times\n"
     ]
    }
   ],
   "source": [
    "my_list = [2,4,5,7,8,5,2]\n",
    "for i in my_list:\n",
    "    print(i, \"appeared\",my_list.count(i), \"times\")"
   ]
  },
  {
   "cell_type": "code",
   "execution_count": 5,
   "id": "0be24bae",
   "metadata": {},
   "outputs": [
    {
     "name": "stdout",
     "output_type": "stream",
     "text": [
      "[2, 4, 5, 7, 8, 5, 2]\n",
      "[2, 4, 5, 7, 8, 5, 2, 9]\n"
     ]
    }
   ],
   "source": [
    "my_list = [2,4,5,7,8,5,2]\n",
    "new_list = my_list.copy()\n",
    "my_list.append(9)\n",
    "\n",
    "print(new_list)\n",
    "print(my_list)"
   ]
  },
  {
   "cell_type": "code",
   "execution_count": 6,
   "id": "92e63109",
   "metadata": {},
   "outputs": [
    {
     "name": "stdout",
     "output_type": "stream",
     "text": [
      "[2, 4, 5, 7, 8, 5, 2, 9]\n",
      "[2, 4, 5, 7, 8, 5, 2, 9]\n"
     ]
    }
   ],
   "source": [
    "my_list = [2,4,5,7,8,5,2]\n",
    "new_list = my_list\n",
    "my_list.append(9)\n",
    "\n",
    "print(new_list)\n",
    "print(my_list)"
   ]
  },
  {
   "cell_type": "code",
   "execution_count": 8,
   "id": "cba69e87",
   "metadata": {},
   "outputs": [
    {
     "name": "stdout",
     "output_type": "stream",
     "text": [
      "[6, 3, 0, 2, 4, 5, 7, 8, 5, 2]\n",
      "2\n"
     ]
    }
   ],
   "source": [
    "list1 = [2,4,5,7,8,5,2]\n",
    "list2 = [6,3,0]\n",
    "list2.extend(list1)\n",
    "print(list2)\n",
    "print(list1.index(5))"
   ]
  },
  {
   "cell_type": "code",
   "execution_count": 9,
   "id": "d99acbc0",
   "metadata": {},
   "outputs": [
    {
     "name": "stdout",
     "output_type": "stream",
     "text": [
      "3\n"
     ]
    }
   ],
   "source": [
    "list3 = [1,3,5,[3,4,5],[5,6,8,[4,3,1]]]\n",
    "list1 = [2,4,5,7,8]\n",
    "number = 7\n",
    "for i in list1:\n",
    "    if i ==number:\n",
    "        print(list1.index(i))"
   ]
  },
  {
   "cell_type": "code",
   "execution_count": 10,
   "id": "d8deb96a",
   "metadata": {},
   "outputs": [
    {
     "name": "stdout",
     "output_type": "stream",
     "text": [
      "[2, 4, 7, 8]\n"
     ]
    }
   ],
   "source": [
    "list1 = [2,4,5,7,8]\n",
    "list1.pop(2)\n",
    "print(list1)"
   ]
  },
  {
   "cell_type": "code",
   "execution_count": 11,
   "id": "2e26e316",
   "metadata": {},
   "outputs": [
    {
     "name": "stdout",
     "output_type": "stream",
     "text": [
      "[]\n"
     ]
    }
   ],
   "source": [
    "list1 = [2,4,5,7,8]\n",
    "list1.clear()\n",
    "print(list1)"
   ]
  },
  {
   "cell_type": "code",
   "execution_count": 13,
   "id": "ca4f769d",
   "metadata": {},
   "outputs": [
    {
     "name": "stdout",
     "output_type": "stream",
     "text": [
      "[8, 7, 5, 4, 2, 1, 0]\n"
     ]
    }
   ],
   "source": [
    "list1 = [4,2,5,1,7,0,8]\n",
    "list1.sort()\n",
    "list1.sort(reverse=True)\n",
    "print(list1)"
   ]
  },
  {
   "cell_type": "code",
   "execution_count": 18,
   "id": "e77c1473",
   "metadata": {},
   "outputs": [
    {
     "name": "stdout",
     "output_type": "stream",
     "text": [
      "[4, 16, 25, 49, 64]\n"
     ]
    }
   ],
   "source": [
    "#create a new list from a listof numbers, whose content is the square\n",
    "list1 = [2,4,5,7,8]\n",
    "list2 = []\n",
    "for x in list1:\n",
    "    list2.append(x**2)\n",
    "print(list2)\n",
    "    \n",
    "\n"
   ]
  },
  {
   "cell_type": "code",
   "execution_count": 17,
   "id": "0d6b69dc",
   "metadata": {},
   "outputs": [
    {
     "name": "stdout",
     "output_type": "stream",
     "text": [
      "[8, 64, 125, 343, 729]\n"
     ]
    }
   ],
   "source": [
    "#list comprehension version\n",
    "list1 = [2,4,5,7,9]\n",
    "list2 = [x**3 for x in list1]\n",
    "print(list2)"
   ]
  },
  {
   "cell_type": "code",
   "execution_count": 19,
   "id": "f614312e",
   "metadata": {},
   "outputs": [
    {
     "name": "stdout",
     "output_type": "stream",
     "text": [
      "[4, 16, 25, 49, 64]\n"
     ]
    }
   ],
   "source": [
    "list1 = [2,4,5,7,8]\n",
    "list2 = [x**2 for x in list1]\n",
    "print(list2)"
   ]
  },
  {
   "cell_type": "code",
   "execution_count": 22,
   "id": "804e77cc",
   "metadata": {},
   "outputs": [
    {
     "name": "stdout",
     "output_type": "stream",
     "text": [
      "[(1, 3), (1, 4)]\n",
      "[(1, 3), (1, 4), (2, 3), (2, 1), (2, 4)]\n",
      "[(1, 3), (1, 4), (2, 3), (2, 1), (2, 4), (3, 1), (3, 4)]\n"
     ]
    }
   ],
   "source": [
    "#nexted for loop\n",
    "combs = []\n",
    "list1 = [1,2,3]\n",
    "list2 = [3,1,4]\n",
    "[(1,3),(1,4),(2,3),(2,1),(2,4),(3,1),(3,4)]\n",
    "for x in list1:\n",
    "    for y in list2:\n",
    "        if x !=y:\n",
    "            combs.append((x,y))\n",
    "    print(combs)\n",
    "            \n",
    "         "
   ]
  },
  {
   "cell_type": "code",
   "execution_count": 23,
   "id": "6c1d01fe",
   "metadata": {},
   "outputs": [
    {
     "name": "stdout",
     "output_type": "stream",
     "text": [
      "[(1, 3), (1, 4)]\n",
      "[(1, 3), (1, 4), (2, 3), (2, 1), (2, 4)]\n",
      "[(1, 3), (1, 4), (2, 3), (2, 1), (2, 4), (3, 1), (3, 4)]\n"
     ]
    }
   ],
   "source": [
    "#nexted for loop\n",
    "combs = []\n",
    "list1 = [1,2,3]\n",
    "list2 = [3,1,4]\n",
    "[(1,3),(1,4),(2,3),(2,1),(2,4),(3,1),(3,4)]\n",
    "for x in list1:\n",
    "    for y in list2:\n",
    "        if x !=y:\n",
    "            combs.append((x,y))\n",
    "    print(combs)"
   ]
  },
  {
   "cell_type": "code",
   "execution_count": 24,
   "id": "034a4148",
   "metadata": {},
   "outputs": [
    {
     "name": "stdout",
     "output_type": "stream",
     "text": [
      "[(1, 3), (1, 4), (2, 3), (2, 1), (2, 4), (3, 1), (3, 4)]\n"
     ]
    }
   ],
   "source": [
    "#list comprehension version of nexted for loop\n",
    "combs = [(x,y) for x in [1,2,3] for y in[3,1,4] if x!= y]\n",
    "print(combs)"
   ]
  },
  {
   "cell_type": "code",
   "execution_count": null,
   "id": "4d3e47ed",
   "metadata": {},
   "outputs": [],
   "source": []
  }
 ],
 "metadata": {
  "kernelspec": {
   "display_name": "Python 3 (ipykernel)",
   "language": "python",
   "name": "python3"
  },
  "language_info": {
   "codemirror_mode": {
    "name": "ipython",
    "version": 3
   },
   "file_extension": ".py",
   "mimetype": "text/x-python",
   "name": "python",
   "nbconvert_exporter": "python",
   "pygments_lexer": "ipython3",
   "version": "3.10.9"
  }
 },
 "nbformat": 4,
 "nbformat_minor": 5
}
